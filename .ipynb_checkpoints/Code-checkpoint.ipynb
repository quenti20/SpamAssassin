{
 "cells": [
  {
   "cell_type": "code",
   "execution_count": 1,
   "id": "9c3463e4",
   "metadata": {},
   "outputs": [],
   "source": [
    "import cohere"
   ]
  },
  {
   "cell_type": "code",
   "execution_count": 2,
   "id": "b6e0a6e3",
   "metadata": {},
   "outputs": [],
   "source": [
    "co = cohere.Client('wAjXL30uVWKpRy8vDUiQdC29bjJAv3F1B7s1Uyg3')\n"
   ]
  },
  {
   "cell_type": "code",
   "execution_count": 3,
   "id": "531e39be",
   "metadata": {},
   "outputs": [],
   "source": [
    "response = co.generate(\n",
    "    model = 'xlarge',\n",
    "    prompt = 'Avik: Hi , My name is Avik.',\n",
    "    max_tokens = 100 ,\n",
    "    temperature = 2\n",
    " )\n"
   ]
  },
  {
   "cell_type": "code",
   "execution_count": 4,
   "id": "36d6b1dd",
   "metadata": {},
   "outputs": [
    {
     "name": "stdout",
     "output_type": "stream",
     "text": [
      " I am working as a Human Resources Recruiter. I live in Canada and I have always loved learning new languages and exploring different cultures. My goal is to learn to speak Arabic fluently. I believe this course will help me do just that!\n",
      "My goals for Arabic: I would like to learn to speak Arabic fluently and read Arabic and the Quran.\n",
      "J'ai 15 ans et j'habite en France.\n",
      "En 3 jours, j'aimerais beaucoup apprendre\n"
     ]
    }
   ],
   "source": [
    "print(response.generations[0].text)"
   ]
  },
  {
   "cell_type": "code",
   "execution_count": 5,
   "id": "4e5a6456",
   "metadata": {},
   "outputs": [],
   "source": [
    "from cohere.classify import Example\n",
    "\n",
    "#examples = [Example('Hey This is good!','positive'),\n",
    "#             Example('nah this is bad','negative'),\n",
    "#             Example('Hey this is very good!','positive'),\n",
    "#             Example('nah this is very bad','negative')]"
   ]
  },
  {
   "cell_type": "code",
   "execution_count": 6,
   "id": "8a1caa67",
   "metadata": {},
   "outputs": [],
   "source": [
    "#inputs = ['uh oh','not good' , 'this is great'] "
   ]
  },
  {
   "cell_type": "code",
   "execution_count": 7,
   "id": "cf98e9d5",
   "metadata": {},
   "outputs": [],
   "source": [
    "# response = co.classify(\n",
    "#      model = 'small',\n",
    "#     inputs = inputs,\n",
    "#     examples = examples\n",
    "# )\n",
    "\n",
    "#print(response.classifications) "
   ]
  },
  {
   "cell_type": "code",
   "execution_count": 8,
   "id": "8e99c337",
   "metadata": {},
   "outputs": [
    {
     "data": {
      "text/html": [
       "<div>\n",
       "<style scoped>\n",
       "    .dataframe tbody tr th:only-of-type {\n",
       "        vertical-align: middle;\n",
       "    }\n",
       "\n",
       "    .dataframe tbody tr th {\n",
       "        vertical-align: top;\n",
       "    }\n",
       "\n",
       "    .dataframe thead th {\n",
       "        text-align: right;\n",
       "    }\n",
       "</style>\n",
       "<table border=\"1\" class=\"dataframe\">\n",
       "  <thead>\n",
       "    <tr style=\"text-align: right;\">\n",
       "      <th></th>\n",
       "      <th>CATEGORY</th>\n",
       "      <th>MESSAGE</th>\n",
       "      <th>FILE_NAME</th>\n",
       "    </tr>\n",
       "  </thead>\n",
       "  <tbody>\n",
       "    <tr>\n",
       "      <th>0</th>\n",
       "      <td>1</td>\n",
       "      <td>Dear Homeowner,\\n\\n \\n\\nInterest Rates are at ...</td>\n",
       "      <td>00249.5f45607c1bffe89f60ba1ec9f878039a</td>\n",
       "    </tr>\n",
       "    <tr>\n",
       "      <th>1</th>\n",
       "      <td>1</td>\n",
       "      <td>ATTENTION: This is a MUST for ALL Computer Use...</td>\n",
       "      <td>00373.ebe8670ac56b04125c25100a36ab0510</td>\n",
       "    </tr>\n",
       "    <tr>\n",
       "      <th>2</th>\n",
       "      <td>1</td>\n",
       "      <td>This is a multi-part message in MIME format.\\n...</td>\n",
       "      <td>00214.1367039e50dc6b7adb0f2aa8aba83216</td>\n",
       "    </tr>\n",
       "  </tbody>\n",
       "</table>\n",
       "</div>"
      ],
      "text/plain": [
       "   CATEGORY                                            MESSAGE  \\\n",
       "0         1  Dear Homeowner,\\n\\n \\n\\nInterest Rates are at ...   \n",
       "1         1  ATTENTION: This is a MUST for ALL Computer Use...   \n",
       "2         1  This is a multi-part message in MIME format.\\n...   \n",
       "\n",
       "                                FILE_NAME  \n",
       "0  00249.5f45607c1bffe89f60ba1ec9f878039a  \n",
       "1  00373.ebe8670ac56b04125c25100a36ab0510  \n",
       "2  00214.1367039e50dc6b7adb0f2aa8aba83216  "
      ]
     },
     "execution_count": 8,
     "metadata": {},
     "output_type": "execute_result"
    }
   ],
   "source": [
    "import pandas as pd \n",
    "\n",
    "df = pd.read_csv('Spam Email raw text for NLP.csv/Spam Email raw text for NLP.csv')\n",
    "df.head(3)"
   ]
  },
  {
   "cell_type": "code",
   "execution_count": 9,
   "id": "e6185283",
   "metadata": {},
   "outputs": [
    {
     "data": {
      "text/html": [
       "<div>\n",
       "<style scoped>\n",
       "    .dataframe tbody tr th:only-of-type {\n",
       "        vertical-align: middle;\n",
       "    }\n",
       "\n",
       "    .dataframe tbody tr th {\n",
       "        vertical-align: top;\n",
       "    }\n",
       "\n",
       "    .dataframe thead th {\n",
       "        text-align: right;\n",
       "    }\n",
       "</style>\n",
       "<table border=\"1\" class=\"dataframe\">\n",
       "  <thead>\n",
       "    <tr style=\"text-align: right;\">\n",
       "      <th></th>\n",
       "      <th>CATEGORY</th>\n",
       "      <th>MESSAGE</th>\n",
       "    </tr>\n",
       "  </thead>\n",
       "  <tbody>\n",
       "    <tr>\n",
       "      <th>0</th>\n",
       "      <td>1</td>\n",
       "      <td>Dear Homeowner,\\n\\n \\n\\nInterest Rates are at ...</td>\n",
       "    </tr>\n",
       "    <tr>\n",
       "      <th>1</th>\n",
       "      <td>1</td>\n",
       "      <td>ATTENTION: This is a MUST for ALL Computer Use...</td>\n",
       "    </tr>\n",
       "    <tr>\n",
       "      <th>2</th>\n",
       "      <td>1</td>\n",
       "      <td>This is a multi-part message in MIME format.\\n...</td>\n",
       "    </tr>\n",
       "  </tbody>\n",
       "</table>\n",
       "</div>"
      ],
      "text/plain": [
       "   CATEGORY                                            MESSAGE\n",
       "0         1  Dear Homeowner,\\n\\n \\n\\nInterest Rates are at ...\n",
       "1         1  ATTENTION: This is a MUST for ALL Computer Use...\n",
       "2         1  This is a multi-part message in MIME format.\\n..."
      ]
     },
     "execution_count": 9,
     "metadata": {},
     "output_type": "execute_result"
    }
   ],
   "source": [
    "df = df.drop('FILE_NAME',axis = 1) \n",
    "df.head(3)"
   ]
  },
  {
   "cell_type": "code",
   "execution_count": 10,
   "id": "f1a9a86e",
   "metadata": {},
   "outputs": [
    {
     "name": "stdout",
     "output_type": "stream",
     "text": [
      "Dear Homeowner,\n",
      "\n",
      " \n",
      "\n",
      "Interest Rates are at their lowest point in 40 years!\n",
      "\n",
      "\n",
      "\n",
      "We help you find the best rate for your situation by\n",
      "\n",
      "matching your needs with hundreds of lenders!\n",
      "\n",
      "\n",
      "\n",
      "Home Improvement, Refinance, Second Mortgage,\n",
      "\n",
      "Home Equity Loans, and More! Even with less than\n",
      "\n",
      "perfect credit!\n",
      "\n",
      "\n",
      "\n",
      "This service is 100% FREE to home owners and new\n",
      "\n",
      "home buyers without any obligation. \n",
      "\n",
      "\n",
      "\n",
      "Just fill out a quick, simple form and jump-start\n",
      "\n",
      "your future plans today!\n",
      "\n",
      "\n",
      "\n",
      "\n",
      "\n",
      "Visit http://61.145.116.186/user0201/index.asp?Afft=QM10\n",
      "\n",
      "\n",
      "\n",
      "\n",
      "\n",
      "\n",
      "\n",
      "\n",
      "\n",
      "\n",
      "\n",
      "\n",
      "\n",
      "To unsubscribe, please visit:\n",
      "\n",
      "\n",
      "\n",
      "http://61.145.116.186/light/watch.asp\n",
      "\n",
      "\n",
      "\n",
      "\n",
      "\n"
     ]
    }
   ],
   "source": [
    "print(df.iloc[0]['MESSAGE'])"
   ]
  },
  {
   "cell_type": "code",
   "execution_count": 11,
   "id": "9276dcf9",
   "metadata": {},
   "outputs": [
    {
     "name": "stdout",
     "output_type": "stream",
     "text": [
      "1\n"
     ]
    }
   ],
   "source": [
    "print(df.iloc[0]['CATEGORY'])"
   ]
  },
  {
   "cell_type": "code",
   "execution_count": 12,
   "id": "a70e17a6",
   "metadata": {},
   "outputs": [
    {
     "data": {
      "text/html": [
       "<div>\n",
       "<style scoped>\n",
       "    .dataframe tbody tr th:only-of-type {\n",
       "        vertical-align: middle;\n",
       "    }\n",
       "\n",
       "    .dataframe tbody tr th {\n",
       "        vertical-align: top;\n",
       "    }\n",
       "\n",
       "    .dataframe thead th {\n",
       "        text-align: right;\n",
       "    }\n",
       "</style>\n",
       "<table border=\"1\" class=\"dataframe\">\n",
       "  <thead>\n",
       "    <tr style=\"text-align: right;\">\n",
       "      <th></th>\n",
       "      <th>CATEGORY</th>\n",
       "      <th>MESSAGE</th>\n",
       "    </tr>\n",
       "  </thead>\n",
       "  <tbody>\n",
       "    <tr>\n",
       "      <th>0</th>\n",
       "      <td>0</td>\n",
       "      <td>On 24 Jul 2002, Karl Anderson wrote:\\n\\n\\n\\n--...</td>\n",
       "    </tr>\n",
       "    <tr>\n",
       "      <th>1</th>\n",
       "      <td>0</td>\n",
       "      <td>This is a multi-part message in MIME format.\\n...</td>\n",
       "    </tr>\n",
       "    <tr>\n",
       "      <th>2</th>\n",
       "      <td>0</td>\n",
       "      <td>URL: http://www.newsisfree.com/click/-5,853546...</td>\n",
       "    </tr>\n",
       "  </tbody>\n",
       "</table>\n",
       "</div>"
      ],
      "text/plain": [
       "   CATEGORY                                            MESSAGE\n",
       "0         0  On 24 Jul 2002, Karl Anderson wrote:\\n\\n\\n\\n--...\n",
       "1         0  This is a multi-part message in MIME format.\\n...\n",
       "2         0  URL: http://www.newsisfree.com/click/-5,853546..."
      ]
     },
     "execution_count": 12,
     "metadata": {},
     "output_type": "execute_result"
    }
   ],
   "source": [
    "df = df.sample(frac = 1, random_state = 2)\n",
    "df = df.reset_index(drop=True) \n",
    "df.head(3)"
   ]
  },
  {
   "cell_type": "code",
   "execution_count": 13,
   "id": "8e0c49c2",
   "metadata": {},
   "outputs": [
    {
     "data": {
      "text/plain": [
       "0    3900\n",
       "1    1896\n",
       "Name: CATEGORY, dtype: int64"
      ]
     },
     "execution_count": 13,
     "metadata": {},
     "output_type": "execute_result"
    }
   ],
   "source": [
    "df['CATEGORY'].value_counts()"
   ]
  },
  {
   "cell_type": "code",
   "execution_count": 14,
   "id": "8635b729",
   "metadata": {},
   "outputs": [
    {
     "data": {
      "text/html": [
       "<div>\n",
       "<style scoped>\n",
       "    .dataframe tbody tr th:only-of-type {\n",
       "        vertical-align: middle;\n",
       "    }\n",
       "\n",
       "    .dataframe tbody tr th {\n",
       "        vertical-align: top;\n",
       "    }\n",
       "\n",
       "    .dataframe thead th {\n",
       "        text-align: right;\n",
       "    }\n",
       "</style>\n",
       "<table border=\"1\" class=\"dataframe\">\n",
       "  <thead>\n",
       "    <tr style=\"text-align: right;\">\n",
       "      <th></th>\n",
       "      <th>CATEGORY</th>\n",
       "      <th>MESSAGE</th>\n",
       "      <th>CATEGORY_LABEL</th>\n",
       "    </tr>\n",
       "  </thead>\n",
       "  <tbody>\n",
       "    <tr>\n",
       "      <th>0</th>\n",
       "      <td>0</td>\n",
       "      <td>On 24 Jul 2002, Karl Anderson wrote:\\n\\n\\n\\n--...</td>\n",
       "      <td>not spam</td>\n",
       "    </tr>\n",
       "    <tr>\n",
       "      <th>1</th>\n",
       "      <td>0</td>\n",
       "      <td>This is a multi-part message in MIME format.\\n...</td>\n",
       "      <td>not spam</td>\n",
       "    </tr>\n",
       "    <tr>\n",
       "      <th>2</th>\n",
       "      <td>0</td>\n",
       "      <td>URL: http://www.newsisfree.com/click/-5,853546...</td>\n",
       "      <td>not spam</td>\n",
       "    </tr>\n",
       "  </tbody>\n",
       "</table>\n",
       "</div>"
      ],
      "text/plain": [
       "   CATEGORY                                            MESSAGE CATEGORY_LABEL\n",
       "0         0  On 24 Jul 2002, Karl Anderson wrote:\\n\\n\\n\\n--...       not spam\n",
       "1         0  This is a multi-part message in MIME format.\\n...       not spam\n",
       "2         0  URL: http://www.newsisfree.com/click/-5,853546...       not spam"
      ]
     },
     "execution_count": 14,
     "metadata": {},
     "output_type": "execute_result"
    }
   ],
   "source": [
    "def category_to_label(category_num) :\n",
    "    if category_num == 0:\n",
    "        return 'not spam'\n",
    "    else:\n",
    "        return 'spam'\n",
    "\n",
    "df['CATEGORY_LABEL'] = df['CATEGORY'].apply(category_to_label)\n",
    "df.head(3)"
   ]
  },
  {
   "cell_type": "code",
   "execution_count": 15,
   "id": "cf158a7e",
   "metadata": {},
   "outputs": [
    {
     "data": {
      "text/html": [
       "<div>\n",
       "<style scoped>\n",
       "    .dataframe tbody tr th:only-of-type {\n",
       "        vertical-align: middle;\n",
       "    }\n",
       "\n",
       "    .dataframe tbody tr th {\n",
       "        vertical-align: top;\n",
       "    }\n",
       "\n",
       "    .dataframe thead th {\n",
       "        text-align: right;\n",
       "    }\n",
       "</style>\n",
       "<table border=\"1\" class=\"dataframe\">\n",
       "  <thead>\n",
       "    <tr style=\"text-align: right;\">\n",
       "      <th></th>\n",
       "      <th>CATEGORY</th>\n",
       "      <th>MESSAGE</th>\n",
       "      <th>CATEGORY_LABEL</th>\n",
       "    </tr>\n",
       "  </thead>\n",
       "  <tbody>\n",
       "    <tr>\n",
       "      <th>0</th>\n",
       "      <td>0</td>\n",
       "      <td>On 24 Jul 22, Karl Anderson wrote\\n\\n\\n\\nAn in...</td>\n",
       "      <td>not spam</td>\n",
       "    </tr>\n",
       "    <tr>\n",
       "      <th>1</th>\n",
       "      <td>0</td>\n",
       "      <td>This is a multipart message in MIME format.\\n\\...</td>\n",
       "      <td>not spam</td>\n",
       "    </tr>\n",
       "    <tr>\n",
       "      <th>2</th>\n",
       "      <td>0</td>\n",
       "      <td>URL httpwww.newsisfree.comclick5,8535466,215\\n...</td>\n",
       "      <td>not spam</td>\n",
       "    </tr>\n",
       "  </tbody>\n",
       "</table>\n",
       "</div>"
      ],
      "text/plain": [
       "   CATEGORY                                            MESSAGE CATEGORY_LABEL\n",
       "0         0  On 24 Jul 22, Karl Anderson wrote\\n\\n\\n\\nAn in...       not spam\n",
       "1         0  This is a multipart message in MIME format.\\n\\...       not spam\n",
       "2         0  URL httpwww.newsisfree.comclick5,8535466,215\\n...       not spam"
      ]
     },
     "execution_count": 15,
     "metadata": {},
     "output_type": "execute_result"
    }
   ],
   "source": [
    "def fix_string(s):\n",
    "    whitelist = set('abcdefghijklmnopqrstuvwxyz ABCDEFGHIJKLMNOPQRSTUVWXYZ123456789.,\\n')\n",
    "    s = ''.join(filter(whitelist.__contains__,s))\n",
    "    return s \n",
    "\n",
    "df['MESSAGE'] = df['MESSAGE'].apply(fix_string)\n",
    "df.head(3) \n"
   ]
  },
  {
   "cell_type": "code",
   "execution_count": 16,
   "id": "2241acfa",
   "metadata": {},
   "outputs": [
    {
     "data": {
      "text/html": [
       "<div>\n",
       "<style scoped>\n",
       "    .dataframe tbody tr th:only-of-type {\n",
       "        vertical-align: middle;\n",
       "    }\n",
       "\n",
       "    .dataframe tbody tr th {\n",
       "        vertical-align: top;\n",
       "    }\n",
       "\n",
       "    .dataframe thead th {\n",
       "        text-align: right;\n",
       "    }\n",
       "</style>\n",
       "<table border=\"1\" class=\"dataframe\">\n",
       "  <thead>\n",
       "    <tr style=\"text-align: right;\">\n",
       "      <th></th>\n",
       "      <th>CATEGORY</th>\n",
       "      <th>MESSAGE</th>\n",
       "      <th>CATEGORY_LABEL</th>\n",
       "      <th>TRUNCATED_MESSAGE</th>\n",
       "    </tr>\n",
       "  </thead>\n",
       "  <tbody>\n",
       "    <tr>\n",
       "      <th>0</th>\n",
       "      <td>0</td>\n",
       "      <td>On 24 Jul 22, Karl Anderson wrote\\n\\n\\n\\nAn in...</td>\n",
       "      <td>not spam</td>\n",
       "      <td>On 24 Jul 22, Karl Anderson wrote\\n\\n\\n\\nAn in...</td>\n",
       "    </tr>\n",
       "    <tr>\n",
       "      <th>1</th>\n",
       "      <td>0</td>\n",
       "      <td>This is a multipart message in MIME format.\\n\\...</td>\n",
       "      <td>not spam</td>\n",
       "      <td>This is a multipart message in MIME format.\\n\\...</td>\n",
       "    </tr>\n",
       "    <tr>\n",
       "      <th>2</th>\n",
       "      <td>0</td>\n",
       "      <td>URL httpwww.newsisfree.comclick5,8535466,215\\n...</td>\n",
       "      <td>not spam</td>\n",
       "      <td>URL httpwww.newsisfree.comclick5,8535466,215\\n...</td>\n",
       "    </tr>\n",
       "  </tbody>\n",
       "</table>\n",
       "</div>"
      ],
      "text/plain": [
       "   CATEGORY                                            MESSAGE CATEGORY_LABEL  \\\n",
       "0         0  On 24 Jul 22, Karl Anderson wrote\\n\\n\\n\\nAn in...       not spam   \n",
       "1         0  This is a multipart message in MIME format.\\n\\...       not spam   \n",
       "2         0  URL httpwww.newsisfree.comclick5,8535466,215\\n...       not spam   \n",
       "\n",
       "                                   TRUNCATED_MESSAGE  \n",
       "0  On 24 Jul 22, Karl Anderson wrote\\n\\n\\n\\nAn in...  \n",
       "1  This is a multipart message in MIME format.\\n\\...  \n",
       "2  URL httpwww.newsisfree.comclick5,8535466,215\\n...  "
      ]
     },
     "execution_count": 16,
     "metadata": {},
     "output_type": "execute_result"
    }
   ],
   "source": [
    "def truncate(message):\n",
    "    word_list = message.split(' ')\n",
    "    word_list = word_list[:400] \n",
    "    word_list = [word[:50] for word in word_list] \n",
    "    message = ''.join([word + ' ' for word in word_list]) \n",
    "    message = message[:400] \n",
    "    \n",
    "    return message \n",
    "\n",
    "df['TRUNCATED_MESSAGE'] = df['MESSAGE'].apply(truncate)\n",
    "df.head(3) \n",
    "    "
   ]
  },
  {
   "cell_type": "code",
   "execution_count": 17,
   "id": "e967480d",
   "metadata": {},
   "outputs": [],
   "source": [
    "TRAIN_SIZE = 100\n",
    "\n",
    "examples = [Example(message,label) for message,label in zip(df['TRUNCATED_MESSAGE'][:TRAIN_SIZE],\n",
    "                                                            df['CATEGORY_LABEL'][:TRAIN_SIZE])]"
   ]
  },
  {
   "cell_type": "code",
   "execution_count": 18,
   "id": "f40e3856",
   "metadata": {},
   "outputs": [
    {
     "data": {
      "text/plain": [
       "100"
      ]
     },
     "execution_count": 18,
     "metadata": {},
     "output_type": "execute_result"
    }
   ],
   "source": [
    "len(examples)"
   ]
  },
  {
   "cell_type": "code",
   "execution_count": 19,
   "id": "bc7cdefd",
   "metadata": {},
   "outputs": [
    {
     "data": {
      "text/plain": [
       "5696"
      ]
     },
     "execution_count": 19,
     "metadata": {},
     "output_type": "execute_result"
    }
   ],
   "source": [
    " inputs = df['TRUNCATED_MESSAGE'][TRAIN_SIZE:].tolist() \n",
    "\n",
    " len(inputs)"
   ]
  },
  {
   "cell_type": "code",
   "execution_count": 20,
   "id": "6c66fbdd",
   "metadata": {},
   "outputs": [],
   "source": [
    "#MODEL_TYPE = 'medium'\n",
    "\n",
    "# first_response = co.classify(model=MODEL_TYPE,\n",
    "#                          inputs=inputs[:90],\n",
    "#                          examples=examples)\n",
    "\n",
    "# second_response = co.classify(model=MODEL_TYPE,\n",
    "#                             inputs=inputs[2000:4000],\n",
    "#                              examples=examples)\n",
    "\n",
    "# third_response = co.classify(model=MODEL_TYPE,\n",
    "#                              inputs=inputs[4000:],\n",
    "#                              examples=examples)\n",
    "\n",
    "#print(first_response) "
   ]
  },
  {
   "cell_type": "code",
   "execution_count": 24,
   "id": "b75c1a98",
   "metadata": {},
   "outputs": [
    {
     "name": "stdout",
     "output_type": "stream",
     "text": [
      "[Classification<prediction: \"spam\", confidence: 0.9998409, labels: {'not spam': LabelPrediction(confidence=0.00015907646), 'spam': LabelPrediction(confidence=0.9998409)}>, Classification<prediction: \"spam\", confidence: 0.9587844, labels: {'not spam': LabelPrediction(confidence=0.041215617), 'spam': LabelPrediction(confidence=0.9587844)}>, Classification<prediction: \"not spam\", confidence: 0.87042916, labels: {'not spam': LabelPrediction(confidence=0.87042916), 'spam': LabelPrediction(confidence=0.12957084)}>, Classification<prediction: \"not spam\", confidence: 0.9904727, labels: {'not spam': LabelPrediction(confidence=0.9904727), 'spam': LabelPrediction(confidence=0.009527333)}>, Classification<prediction: \"not spam\", confidence: 0.99888766, labels: {'not spam': LabelPrediction(confidence=0.99888766), 'spam': LabelPrediction(confidence=0.0011123712)}>, Classification<prediction: \"not spam\", confidence: 0.99947464, labels: {'not spam': LabelPrediction(confidence=0.99947464), 'spam': LabelPrediction(confidence=0.0005253609)}>, Classification<prediction: \"not spam\", confidence: 0.99999875, labels: {'not spam': LabelPrediction(confidence=0.99999875), 'spam': LabelPrediction(confidence=1.241013e-06)}>, Classification<prediction: \"not spam\", confidence: 0.9934399, labels: {'not spam': LabelPrediction(confidence=0.9934399), 'spam': LabelPrediction(confidence=0.0065600895)}>, Classification<prediction: \"not spam\", confidence: 0.998312, labels: {'not spam': LabelPrediction(confidence=0.998312), 'spam': LabelPrediction(confidence=0.0016879882)}>, Classification<prediction: \"not spam\", confidence: 0.99998, labels: {'not spam': LabelPrediction(confidence=0.99998), 'spam': LabelPrediction(confidence=2.0003225e-05)}>, Classification<prediction: \"not spam\", confidence: 0.9994346, labels: {'not spam': LabelPrediction(confidence=0.9994346), 'spam': LabelPrediction(confidence=0.0005653855)}>, Classification<prediction: \"spam\", confidence: 0.9592422, labels: {'not spam': LabelPrediction(confidence=0.040757794), 'spam': LabelPrediction(confidence=0.9592422)}>, Classification<prediction: \"not spam\", confidence: 0.98915726, labels: {'not spam': LabelPrediction(confidence=0.98915726), 'spam': LabelPrediction(confidence=0.010842753)}>, Classification<prediction: \"not spam\", confidence: 0.9983404, labels: {'not spam': LabelPrediction(confidence=0.9983404), 'spam': LabelPrediction(confidence=0.0016595504)}>, Classification<prediction: \"not spam\", confidence: 0.9971961, labels: {'not spam': LabelPrediction(confidence=0.9971961), 'spam': LabelPrediction(confidence=0.0028039047)}>, Classification<prediction: \"not spam\", confidence: 0.9999718, labels: {'not spam': LabelPrediction(confidence=0.9999718), 'spam': LabelPrediction(confidence=2.8201344e-05)}>, Classification<prediction: \"spam\", confidence: 0.9279537, labels: {'not spam': LabelPrediction(confidence=0.07204629), 'spam': LabelPrediction(confidence=0.9279537)}>, Classification<prediction: \"not spam\", confidence: 0.9980795, labels: {'not spam': LabelPrediction(confidence=0.9980795), 'spam': LabelPrediction(confidence=0.001920504)}>, Classification<prediction: \"not spam\", confidence: 0.9999744, labels: {'not spam': LabelPrediction(confidence=0.9999744), 'spam': LabelPrediction(confidence=2.5547477e-05)}>, Classification<prediction: \"spam\", confidence: 0.9971192, labels: {'not spam': LabelPrediction(confidence=0.002880796), 'spam': LabelPrediction(confidence=0.9971192)}>, Classification<prediction: \"not spam\", confidence: 0.9974166, labels: {'not spam': LabelPrediction(confidence=0.9974166), 'spam': LabelPrediction(confidence=0.0025833827)}>, Classification<prediction: \"not spam\", confidence: 0.9974807, labels: {'not spam': LabelPrediction(confidence=0.9974807), 'spam': LabelPrediction(confidence=0.0025192958)}>, Classification<prediction: \"spam\", confidence: 0.86713547, labels: {'not spam': LabelPrediction(confidence=0.13286455), 'spam': LabelPrediction(confidence=0.86713547)}>, Classification<prediction: \"spam\", confidence: 0.9742213, labels: {'not spam': LabelPrediction(confidence=0.025778716), 'spam': LabelPrediction(confidence=0.9742213)}>, Classification<prediction: \"not spam\", confidence: 0.99999344, labels: {'not spam': LabelPrediction(confidence=0.99999344), 'spam': LabelPrediction(confidence=6.530767e-06)}>, Classification<prediction: \"not spam\", confidence: 0.9992555, labels: {'not spam': LabelPrediction(confidence=0.9992555), 'spam': LabelPrediction(confidence=0.0007445324)}>, Classification<prediction: \"spam\", confidence: 0.99773383, labels: {'not spam': LabelPrediction(confidence=0.0022661733), 'spam': LabelPrediction(confidence=0.99773383)}>, Classification<prediction: \"not spam\", confidence: 0.99758285, labels: {'not spam': LabelPrediction(confidence=0.99758285), 'spam': LabelPrediction(confidence=0.0024171728)}>, Classification<prediction: \"not spam\", confidence: 0.9997211, labels: {'not spam': LabelPrediction(confidence=0.9997211), 'spam': LabelPrediction(confidence=0.00027891283)}>, Classification<prediction: \"not spam\", confidence: 0.99864393, labels: {'not spam': LabelPrediction(confidence=0.99864393), 'spam': LabelPrediction(confidence=0.0013560889)}>, Classification<prediction: \"not spam\", confidence: 0.999954, labels: {'not spam': LabelPrediction(confidence=0.999954), 'spam': LabelPrediction(confidence=4.603673e-05)}>, Classification<prediction: \"not spam\", confidence: 0.9999906, labels: {'not spam': LabelPrediction(confidence=0.9999906), 'spam': LabelPrediction(confidence=9.438017e-06)}>, Classification<prediction: \"spam\", confidence: 0.8055248, labels: {'not spam': LabelPrediction(confidence=0.1944752), 'spam': LabelPrediction(confidence=0.8055248)}>, Classification<prediction: \"not spam\", confidence: 0.99997765, labels: {'not spam': LabelPrediction(confidence=0.99997765), 'spam': LabelPrediction(confidence=2.2322387e-05)}>, Classification<prediction: \"not spam\", confidence: 0.99678355, labels: {'not spam': LabelPrediction(confidence=0.99678355), 'spam': LabelPrediction(confidence=0.0032164208)}>, Classification<prediction: \"not spam\", confidence: 0.99883914, labels: {'not spam': LabelPrediction(confidence=0.99883914), 'spam': LabelPrediction(confidence=0.0011608884)}>, Classification<prediction: \"not spam\", confidence: 0.9999689, labels: {'not spam': LabelPrediction(confidence=0.9999689), 'spam': LabelPrediction(confidence=3.1086827e-05)}>, Classification<prediction: \"spam\", confidence: 0.980617, labels: {'not spam': LabelPrediction(confidence=0.019383028), 'spam': LabelPrediction(confidence=0.980617)}>, Classification<prediction: \"spam\", confidence: 0.9778039, labels: {'not spam': LabelPrediction(confidence=0.0221961), 'spam': LabelPrediction(confidence=0.9778039)}>, Classification<prediction: \"not spam\", confidence: 0.9513619, labels: {'not spam': LabelPrediction(confidence=0.9513619), 'spam': LabelPrediction(confidence=0.04863808)}>, Classification<prediction: \"not spam\", confidence: 0.9999983, labels: {'not spam': LabelPrediction(confidence=0.9999983), 'spam': LabelPrediction(confidence=1.7080914e-06)}>, Classification<prediction: \"spam\", confidence: 0.9948887, labels: {'not spam': LabelPrediction(confidence=0.005111281), 'spam': LabelPrediction(confidence=0.9948887)}>, Classification<prediction: \"not spam\", confidence: 0.9951043, labels: {'not spam': LabelPrediction(confidence=0.9951043), 'spam': LabelPrediction(confidence=0.0048956745)}>, Classification<prediction: \"spam\", confidence: 0.95858586, labels: {'not spam': LabelPrediction(confidence=0.041414123), 'spam': LabelPrediction(confidence=0.95858586)}>, Classification<prediction: \"not spam\", confidence: 0.99816096, labels: {'not spam': LabelPrediction(confidence=0.99816096), 'spam': LabelPrediction(confidence=0.0018390359)}>, Classification<prediction: \"not spam\", confidence: 0.99867266, labels: {'not spam': LabelPrediction(confidence=0.99867266), 'spam': LabelPrediction(confidence=0.0013273109)}>, Classification<prediction: \"not spam\", confidence: 0.88121736, labels: {'not spam': LabelPrediction(confidence=0.88121736), 'spam': LabelPrediction(confidence=0.11878261)}>, Classification<prediction: \"not spam\", confidence: 0.99263614, labels: {'not spam': LabelPrediction(confidence=0.99263614), 'spam': LabelPrediction(confidence=0.0073638717)}>, Classification<prediction: \"not spam\", confidence: 0.6016514, labels: {'not spam': LabelPrediction(confidence=0.6016514), 'spam': LabelPrediction(confidence=0.39834866)}>, Classification<prediction: \"spam\", confidence: 0.8435457, labels: {'not spam': LabelPrediction(confidence=0.1564543), 'spam': LabelPrediction(confidence=0.8435457)}>, Classification<prediction: \"not spam\", confidence: 0.99431807, labels: {'not spam': LabelPrediction(confidence=0.99431807), 'spam': LabelPrediction(confidence=0.005681931)}>, Classification<prediction: \"not spam\", confidence: 0.99731874, labels: {'not spam': LabelPrediction(confidence=0.99731874), 'spam': LabelPrediction(confidence=0.002681244)}>, Classification<prediction: \"spam\", confidence: 0.99793696, labels: {'not spam': LabelPrediction(confidence=0.0020630236), 'spam': LabelPrediction(confidence=0.99793696)}>, Classification<prediction: \"spam\", confidence: 0.9988485, labels: {'not spam': LabelPrediction(confidence=0.0011515233), 'spam': LabelPrediction(confidence=0.9988485)}>, Classification<prediction: \"not spam\", confidence: 0.9985295, labels: {'not spam': LabelPrediction(confidence=0.9985295), 'spam': LabelPrediction(confidence=0.0014705338)}>, Classification<prediction: \"spam\", confidence: 0.99959546, labels: {'not spam': LabelPrediction(confidence=0.00040454883), 'spam': LabelPrediction(confidence=0.99959546)}>, Classification<prediction: \"not spam\", confidence: 0.99958766, labels: {'not spam': LabelPrediction(confidence=0.99958766), 'spam': LabelPrediction(confidence=0.000412329)}>, Classification<prediction: \"not spam\", confidence: 0.9956858, labels: {'not spam': LabelPrediction(confidence=0.9956858), 'spam': LabelPrediction(confidence=0.0043141977)}>, Classification<prediction: \"spam\", confidence: 0.9962267, labels: {'not spam': LabelPrediction(confidence=0.0037732895), 'spam': LabelPrediction(confidence=0.9962267)}>, Classification<prediction: \"spam\", confidence: 0.9976544, labels: {'not spam': LabelPrediction(confidence=0.002345613), 'spam': LabelPrediction(confidence=0.9976544)}>, Classification<prediction: \"not spam\", confidence: 0.9991834, labels: {'not spam': LabelPrediction(confidence=0.9991834), 'spam': LabelPrediction(confidence=0.0008165572)}>, Classification<prediction: \"spam\", confidence: 0.99988735, labels: {'not spam': LabelPrediction(confidence=0.00011265509), 'spam': LabelPrediction(confidence=0.99988735)}>, Classification<prediction: \"not spam\", confidence: 0.99954844, labels: {'not spam': LabelPrediction(confidence=0.99954844), 'spam': LabelPrediction(confidence=0.00045154855)}>, Classification<prediction: \"spam\", confidence: 0.99942565, labels: {'not spam': LabelPrediction(confidence=0.0005743284), 'spam': LabelPrediction(confidence=0.99942565)}>, Classification<prediction: \"spam\", confidence: 0.87174195, labels: {'not spam': LabelPrediction(confidence=0.12825803), 'spam': LabelPrediction(confidence=0.87174195)}>, Classification<prediction: \"spam\", confidence: 0.9585605, labels: {'not spam': LabelPrediction(confidence=0.041439462), 'spam': LabelPrediction(confidence=0.9585605)}>, Classification<prediction: \"spam\", confidence: 0.9145135, labels: {'not spam': LabelPrediction(confidence=0.08548649), 'spam': LabelPrediction(confidence=0.9145135)}>, Classification<prediction: \"not spam\", confidence: 0.9989593, labels: {'not spam': LabelPrediction(confidence=0.9989593), 'spam': LabelPrediction(confidence=0.0010407161)}>, Classification<prediction: \"not spam\", confidence: 0.99941915, labels: {'not spam': LabelPrediction(confidence=0.99941915), 'spam': LabelPrediction(confidence=0.000580834)}>, Classification<prediction: \"not spam\", confidence: 0.99634916, labels: {'not spam': LabelPrediction(confidence=0.99634916), 'spam': LabelPrediction(confidence=0.0036508383)}>, Classification<prediction: \"spam\", confidence: 0.5926522, labels: {'not spam': LabelPrediction(confidence=0.4073478), 'spam': LabelPrediction(confidence=0.5926522)}>, Classification<prediction: \"not spam\", confidence: 0.9991246, labels: {'not spam': LabelPrediction(confidence=0.9991246), 'spam': LabelPrediction(confidence=0.000875422)}>, Classification<prediction: \"not spam\", confidence: 0.9987385, labels: {'not spam': LabelPrediction(confidence=0.9987385), 'spam': LabelPrediction(confidence=0.001261469)}>, Classification<prediction: \"not spam\", confidence: 0.999522, labels: {'not spam': LabelPrediction(confidence=0.999522), 'spam': LabelPrediction(confidence=0.0004780388)}>, Classification<prediction: \"spam\", confidence: 0.9898601, labels: {'not spam': LabelPrediction(confidence=0.010139879), 'spam': LabelPrediction(confidence=0.9898601)}>, Classification<prediction: \"not spam\", confidence: 0.9988767, labels: {'not spam': LabelPrediction(confidence=0.9988767), 'spam': LabelPrediction(confidence=0.0011233113)}>, Classification<prediction: \"not spam\", confidence: 0.99906343, labels: {'not spam': LabelPrediction(confidence=0.99906343), 'spam': LabelPrediction(confidence=0.00093654153)}>, Classification<prediction: \"not spam\", confidence: 0.9998249, labels: {'not spam': LabelPrediction(confidence=0.9998249), 'spam': LabelPrediction(confidence=0.00017510614)}>, Classification<prediction: \"not spam\", confidence: 0.99997014, labels: {'not spam': LabelPrediction(confidence=0.99997014), 'spam': LabelPrediction(confidence=2.9867499e-05)}>, Classification<prediction: \"not spam\", confidence: 0.9999903, labels: {'not spam': LabelPrediction(confidence=0.9999903), 'spam': LabelPrediction(confidence=9.740409e-06)}>, Classification<prediction: \"not spam\", confidence: 0.99927855, labels: {'not spam': LabelPrediction(confidence=0.99927855), 'spam': LabelPrediction(confidence=0.0007214456)}>, Classification<prediction: \"not spam\", confidence: 0.9995741, labels: {'not spam': LabelPrediction(confidence=0.9995741), 'spam': LabelPrediction(confidence=0.00042586357)}>, Classification<prediction: \"not spam\", confidence: 0.99976104, labels: {'not spam': LabelPrediction(confidence=0.99976104), 'spam': LabelPrediction(confidence=0.00023893168)}>, Classification<prediction: \"not spam\", confidence: 0.9998141, labels: {'not spam': LabelPrediction(confidence=0.9998141), 'spam': LabelPrediction(confidence=0.0001859322)}>, Classification<prediction: \"not spam\", confidence: 0.9992205, labels: {'not spam': LabelPrediction(confidence=0.9992205), 'spam': LabelPrediction(confidence=0.00077952974)}>, Classification<prediction: \"not spam\", confidence: 0.99785703, labels: {'not spam': LabelPrediction(confidence=0.99785703), 'spam': LabelPrediction(confidence=0.0021429707)}>, Classification<prediction: \"not spam\", confidence: 0.99993265, labels: {'not spam': LabelPrediction(confidence=0.99993265), 'spam': LabelPrediction(confidence=6.734281e-05)}>, Classification<prediction: \"spam\", confidence: 0.9931293, labels: {'not spam': LabelPrediction(confidence=0.0068706963), 'spam': LabelPrediction(confidence=0.9931293)}>, Classification<prediction: \"not spam\", confidence: 0.9993588, labels: {'not spam': LabelPrediction(confidence=0.9993588), 'spam': LabelPrediction(confidence=0.00064125384)}>, Classification<prediction: \"spam\", confidence: 0.9973916, labels: {'not spam': LabelPrediction(confidence=0.0026084038), 'spam': LabelPrediction(confidence=0.9973916)}>]\n"
     ]
    }
   ],
   "source": [
    "MODEL_TYPE = 'small'\n",
    "batch_size = 90\n",
    "responses = []\n",
    "for i in range(0, len(inputs), batch_size):\n",
    "    batch_inputs = inputs[i:i+batch_size]\n",
    "    response = co.classify(model=MODEL_TYPE, inputs=batch_inputs, examples=examples)\n",
    "    responses.append(response)\n",
    "\n",
    "# # process responses\n",
    "# for input_, response in zip(inputs, responses):\n",
    "#     label = response['label']\n",
    "#     confidence = response['confidence']\n",
    "#     print(f\"Input: {input_}\\nLabel: {label}\\nConfidence: {confidence}\\n\")\n",
    "print(responses[3]) "
   ]
  },
  {
   "cell_type": "code",
   "execution_count": 34,
   "id": "fc388330",
   "metadata": {},
   "outputs": [
    {
     "data": {
      "text/plain": [
       "'not spam'"
      ]
     },
     "execution_count": 34,
     "metadata": {},
     "output_type": "execute_result"
    }
   ],
   "source": [
    "responses[0][89].prediction"
   ]
  },
  {
   "cell_type": "code",
   "execution_count": 46,
   "id": "3e571a63",
   "metadata": {},
   "outputs": [
    {
     "data": {
      "text/plain": [
       "array([0, 0, 1, 0, 0], dtype=int64)"
      ]
     },
     "execution_count": 46,
     "metadata": {},
     "output_type": "execute_result"
    }
   ],
   "source": [
    "truths = df['CATEGORY'].to_numpy()[TRAIN_SIZE:]\n",
    "truths[:5]"
   ]
  },
  {
   "cell_type": "code",
   "execution_count": 37,
   "id": "1a023d12",
   "metadata": {},
   "outputs": [],
   "source": [
    "length_responses = len(responses)"
   ]
  },
  {
   "cell_type": "code",
   "execution_count": 47,
   "id": "0fba3e87",
   "metadata": {},
   "outputs": [
    {
     "data": {
      "text/plain": [
       "['not spam', 'not spam', 'not spam', 'not spam', 'not spam']"
      ]
     },
     "execution_count": 47,
     "metadata": {},
     "output_type": "execute_result"
    }
   ],
   "source": [
    "predictions = []\n",
    "for r in range(len(responses)):\n",
    "    for p in range(len(responses[r])):\n",
    "        prediction = responses[r][p].prediction\n",
    "        predictions.append(prediction)\n",
    "predictions[:5]"
   ]
  },
  {
   "cell_type": "code",
   "execution_count": 48,
   "id": "0cbddbdf",
   "metadata": {},
   "outputs": [
    {
     "data": {
      "text/plain": [
       "array([0, 0, 0, 0, 0])"
      ]
     },
     "execution_count": 48,
     "metadata": {},
     "output_type": "execute_result"
    }
   ],
   "source": [
    "import numpy as np \n",
    "\n",
    "predictions = np.array([0 if p == 'not spam' else 1 for p in predictions])\n",
    "predictions[:5]"
   ]
  },
  {
   "cell_type": "code",
   "execution_count": 49,
   "id": "3ec33a4d",
   "metadata": {},
   "outputs": [
    {
     "ename": "NameError",
     "evalue": "name 'truth' is not defined",
     "output_type": "error",
     "traceback": [
      "\u001b[1;31m---------------------------------------------------------------------------\u001b[0m",
      "\u001b[1;31mNameError\u001b[0m                                 Traceback (most recent call last)",
      "Input \u001b[1;32mIn [49]\u001b[0m, in \u001b[0;36m<cell line: 3>\u001b[1;34m()\u001b[0m\n\u001b[0;32m      1\u001b[0m \u001b[38;5;28;01mfrom\u001b[39;00m \u001b[38;5;21;01msklearn\u001b[39;00m\u001b[38;5;21;01m.\u001b[39;00m\u001b[38;5;21;01mmetrics\u001b[39;00m \u001b[38;5;28;01mimport\u001b[39;00m classification_report\n\u001b[1;32m----> 3\u001b[0m \u001b[38;5;28mprint\u001b[39m(classification_report(\u001b[43mtruth\u001b[49m,predictions))\n",
      "\u001b[1;31mNameError\u001b[0m: name 'truth' is not defined"
     ]
    }
   ],
   "source": [
    "from sklearn.metrics import classification_report\n",
    "\n",
    "print(classification_report(truth,predictions))"
   ]
  },
  {
   "cell_type": "code",
   "execution_count": null,
   "id": "344fe56d",
   "metadata": {},
   "outputs": [],
   "source": []
  }
 ],
 "metadata": {
  "kernelspec": {
   "display_name": "Python 3 (ipykernel)",
   "language": "python",
   "name": "python3"
  },
  "language_info": {
   "codemirror_mode": {
    "name": "ipython",
    "version": 3
   },
   "file_extension": ".py",
   "mimetype": "text/x-python",
   "name": "python",
   "nbconvert_exporter": "python",
   "pygments_lexer": "ipython3",
   "version": "3.10.6"
  }
 },
 "nbformat": 4,
 "nbformat_minor": 5
}
