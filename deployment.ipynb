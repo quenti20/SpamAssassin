{
 "cells": [
  {
   "cell_type": "code",
   "execution_count": null,
   "id": "57050bc8",
   "metadata": {},
   "outputs": [
    {
     "name": "stdout",
     "output_type": "stream",
     "text": [
      " * Serving Flask app '__main__'\n",
      " * Debug mode: off\n"
     ]
    },
    {
     "name": "stderr",
     "output_type": "stream",
     "text": [
      "2023-02-24 21:37:19.237 \u001b[31m\u001b[1mWARNING: This is a development server. Do not use it in a production deployment. Use a production WSGI server instead.\u001b[0m\n",
      " * Running on http://127.0.0.1:5000\n",
      "2023-02-24 21:37:19.237 \u001b[33mPress CTRL+C to quit\u001b[0m\n",
      "2023-02-24 21:37:31.969 127.0.0.1 - - [24/Feb/2023 21:37:31] \"GET / HTTP/1.1\" 200 -\n"
     ]
    }
   ],
   "source": [
    "from flask import Flask, request\n",
    "import pickle\n",
    "import cohere as co\n",
    "\n",
    "app = Flask(__name__)\n",
    "\n",
    "# Load the examples from the pickle file\n",
    "with open('examples.pkl', 'rb') as file:\n",
    "    examples = pickle.load(file)\n",
    "\n",
    "@app.route('/')\n",
    "def home():\n",
    "    return 'Welcome to the spam classifier!'\n",
    "\n",
    "@app.route('/predict', methods=['POST'])\n",
    "def predict():\n",
    "    message = request.form['message']\n",
    "\n",
    "    # Use the cohere API to classify the message as spam or not spam\n",
    "    response = co.classify(model='small', inputs=message, examples=examples)\n",
    "    prediction = response[0].prediction\n",
    "\n",
    "\n",
    "    print(prediction) \n",
    "\n",
    "if __name__ == '__main__':\n",
    "    app.run()\n"
   ]
  },
  {
   "cell_type": "code",
   "execution_count": 7,
   "id": "f0b21db6",
   "metadata": {},
   "outputs": [
    {
     "ename": "CohereError",
     "evalue": "invalid type, for proper usage, please refer to https://docs.cohere.ai/classify-reference",
     "output_type": "error",
     "traceback": [
      "\u001b[1;31m---------------------------------------------------------------------------\u001b[0m",
      "\u001b[1;31mCohereError\u001b[0m                               Traceback (most recent call last)",
      "Input \u001b[1;32mIn [7]\u001b[0m, in \u001b[0;36m<cell line: 22>\u001b[1;34m()\u001b[0m\n\u001b[0;32m     18\u001b[0m input_message \u001b[38;5;241m=\u001b[39m st\u001b[38;5;241m.\u001b[39mtext_input(\u001b[38;5;124m\"\u001b[39m\u001b[38;5;124mEnter the message\u001b[39m\u001b[38;5;124m\"\u001b[39m)\n\u001b[0;32m     20\u001b[0m transform_msg \u001b[38;5;241m=\u001b[39m fix_string(input_message)\n\u001b[1;32m---> 22\u001b[0m response \u001b[38;5;241m=\u001b[39m \u001b[43mco\u001b[49m\u001b[38;5;241;43m.\u001b[39;49m\u001b[43mclassify\u001b[49m\u001b[43m(\u001b[49m\u001b[43mmodel\u001b[49m\u001b[43m \u001b[49m\u001b[38;5;241;43m=\u001b[39;49m\u001b[43m \u001b[49m\u001b[38;5;124;43m'\u001b[39;49m\u001b[38;5;124;43msmall\u001b[39;49m\u001b[38;5;124;43m'\u001b[39;49m\u001b[43m,\u001b[49m\u001b[43minputs\u001b[49m\u001b[43m \u001b[49m\u001b[38;5;241;43m=\u001b[39;49m\u001b[43m \u001b[49m\u001b[43mtransform_msg\u001b[49m\u001b[43m,\u001b[49m\u001b[43mexamples\u001b[49m\u001b[43m \u001b[49m\u001b[38;5;241;43m=\u001b[39;49m\u001b[43m \u001b[49m\u001b[43mexamples\u001b[49m\u001b[43m)\u001b[49m\n\u001b[0;32m     24\u001b[0m result \u001b[38;5;241m=\u001b[39m response[\u001b[38;5;241m0\u001b[39m]\u001b[38;5;241m.\u001b[39mprediction\n\u001b[0;32m     26\u001b[0m \u001b[38;5;28;01mif\u001b[39;00m result \u001b[38;5;241m==\u001b[39m \u001b[38;5;124m'\u001b[39m\u001b[38;5;124mspam\u001b[39m\u001b[38;5;124m'\u001b[39m: \n",
      "File \u001b[1;32m~\\AppData\\Local\\Programs\\Python\\Python310\\lib\\site-packages\\cohere\\client.py:267\u001b[0m, in \u001b[0;36mClient.classify\u001b[1;34m(self, inputs, model, preset, examples, truncate)\u001b[0m\n\u001b[0;32m    258\u001b[0m     examples_dicts\u001b[38;5;241m.\u001b[39mappend(example_dict)\n\u001b[0;32m    260\u001b[0m json_body \u001b[38;5;241m=\u001b[39m {\n\u001b[0;32m    261\u001b[0m     \u001b[38;5;124m'\u001b[39m\u001b[38;5;124mmodel\u001b[39m\u001b[38;5;124m'\u001b[39m: model,\n\u001b[0;32m    262\u001b[0m     \u001b[38;5;124m'\u001b[39m\u001b[38;5;124mpreset\u001b[39m\u001b[38;5;124m'\u001b[39m: preset,\n\u001b[1;32m   (...)\u001b[0m\n\u001b[0;32m    265\u001b[0m     \u001b[38;5;124m'\u001b[39m\u001b[38;5;124mtruncate\u001b[39m\u001b[38;5;124m'\u001b[39m: truncate,\n\u001b[0;32m    266\u001b[0m }\n\u001b[1;32m--> 267\u001b[0m response \u001b[38;5;241m=\u001b[39m \u001b[38;5;28;43mself\u001b[39;49m\u001b[38;5;241;43m.\u001b[39;49m\u001b[43m__request\u001b[49m\u001b[43m(\u001b[49m\u001b[43mcohere\u001b[49m\u001b[38;5;241;43m.\u001b[39;49m\u001b[43mCLASSIFY_URL\u001b[49m\u001b[43m,\u001b[49m\u001b[43m \u001b[49m\u001b[43mjson\u001b[49m\u001b[38;5;241;43m=\u001b[39;49m\u001b[43mjson_body\u001b[49m\u001b[43m)\u001b[49m\n\u001b[0;32m    269\u001b[0m classifications \u001b[38;5;241m=\u001b[39m []\n\u001b[0;32m    270\u001b[0m \u001b[38;5;28;01mfor\u001b[39;00m res \u001b[38;5;129;01min\u001b[39;00m response[\u001b[38;5;124m'\u001b[39m\u001b[38;5;124mclassifications\u001b[39m\u001b[38;5;124m'\u001b[39m]:\n",
      "File \u001b[1;32m~\\AppData\\Local\\Programs\\Python\\Python310\\lib\\site-packages\\cohere\\client.py:488\u001b[0m, in \u001b[0;36mClient.__request\u001b[1;34m(self, endpoint, json, method)\u001b[0m\n\u001b[0;32m    482\u001b[0m             \u001b[38;5;28;01mraise\u001b[39;00m CohereError(\n\u001b[0;32m    483\u001b[0m                 message\u001b[38;5;241m=\u001b[39mresponse\u001b[38;5;241m.\u001b[39mtext,\n\u001b[0;32m    484\u001b[0m                 http_status\u001b[38;5;241m=\u001b[39mresponse\u001b[38;5;241m.\u001b[39mstatus_code,\n\u001b[0;32m    485\u001b[0m                 headers\u001b[38;5;241m=\u001b[39mresponse\u001b[38;5;241m.\u001b[39mheaders,\n\u001b[0;32m    486\u001b[0m             )\n\u001b[0;32m    487\u001b[0m         \u001b[38;5;28;01mif\u001b[39;00m \u001b[38;5;124m'\u001b[39m\u001b[38;5;124mmessage\u001b[39m\u001b[38;5;124m'\u001b[39m \u001b[38;5;129;01min\u001b[39;00m res:  \u001b[38;5;66;03m# has errors\u001b[39;00m\n\u001b[1;32m--> 488\u001b[0m             \u001b[38;5;28;01mraise\u001b[39;00m CohereError(\n\u001b[0;32m    489\u001b[0m                 message\u001b[38;5;241m=\u001b[39mres[\u001b[38;5;124m'\u001b[39m\u001b[38;5;124mmessage\u001b[39m\u001b[38;5;124m'\u001b[39m],\n\u001b[0;32m    490\u001b[0m                 http_status\u001b[38;5;241m=\u001b[39mresponse\u001b[38;5;241m.\u001b[39mstatus_code,\n\u001b[0;32m    491\u001b[0m                 headers\u001b[38;5;241m=\u001b[39mresponse\u001b[38;5;241m.\u001b[39mheaders,\n\u001b[0;32m    492\u001b[0m             )\n\u001b[0;32m    493\u001b[0m         \u001b[38;5;28mself\u001b[39m\u001b[38;5;241m.\u001b[39m__print_warning_msg(response)\n\u001b[0;32m    495\u001b[0m \u001b[38;5;28;01mreturn\u001b[39;00m res\n",
      "\u001b[1;31mCohereError\u001b[0m: invalid type, for proper usage, please refer to https://docs.cohere.ai/classify-reference"
     ]
    }
   ],
   "source": [
    "# import streamlit as st\n",
    "# import pickle\n",
    "# import cohere\n",
    "# import numpy as np\n",
    "\n",
    "# co = cohere.Client('wAjXL30uVWKpRy8vDUiQdC29bjJAv3F1B7s1Uyg3')\n",
    "\n",
    "\n",
    "# examples = pickle.load(open('examples.pkl','rb'))\n",
    "# st.title(\"Email/SMS Classfier\")\n",
    "\n",
    "\n",
    "# def fix_string(s):\n",
    "#     whitelist = set('abcdefghijklmnopqrstuvwxyz ABCDEFGHIJKLMNOPQRSTUVWXYZ123456789.,\\n')\n",
    "#     s = ''.join(filter(whitelist.__contains__,s))\n",
    "#     return s\n",
    "\n",
    "# input_message = st.text_input(\"Enter the message\")\n",
    "\n",
    "# transform_msg = fix_string(input_message)\n",
    "\n",
    "# response = co.classify(model = 'small',inputs = transform_msg,examples = examples)\n",
    "\n",
    "# result = response[0].prediction\n",
    "\n",
    "# if result == 'spam': \n",
    "#     st.header(\"Spam\")\n",
    "# else: \n",
    "#     st.header(\"Not Spam\")\n",
    "    \n"
   ]
  },
  {
   "cell_type": "code",
   "execution_count": null,
   "id": "007a94ad",
   "metadata": {},
   "outputs": [],
   "source": []
  }
 ],
 "metadata": {
  "kernelspec": {
   "display_name": "Python 3 (ipykernel)",
   "language": "python",
   "name": "python3"
  },
  "language_info": {
   "codemirror_mode": {
    "name": "ipython",
    "version": 3
   },
   "file_extension": ".py",
   "mimetype": "text/x-python",
   "name": "python",
   "nbconvert_exporter": "python",
   "pygments_lexer": "ipython3",
   "version": "3.10.6"
  }
 },
 "nbformat": 4,
 "nbformat_minor": 5
}
